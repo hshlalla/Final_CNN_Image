{
  "nbformat": 4,
  "nbformat_minor": 0,
  "metadata": {
    "colab": {
      "name": "211031_Final_CNN_image.ipynb",
      "provenance": [],
      "collapsed_sections": [],
      "authorship_tag": "ABX9TyOsFBaMZBUd69x0rM7bOV58",
      "include_colab_link": true
    },
    "kernelspec": {
      "name": "python3",
      "display_name": "Python 3"
    },
    "language_info": {
      "name": "python"
    }
  },
  "cells": [
    {
      "cell_type": "markdown",
      "metadata": {
        "id": "view-in-github",
        "colab_type": "text"
      },
      "source": [
        "<a href=\"https://colab.research.google.com/github/hshlalla/Final_CNN_Image/blob/main/211031_Final_CNN_image.ipynb\" target=\"_parent\"><img src=\"https://colab.research.google.com/assets/colab-badge.svg\" alt=\"Open In Colab\"/></a>"
      ]
    },
    {
      "cell_type": "markdown",
      "metadata": {
        "id": "FyyLj3zYvhfX"
      },
      "source": [
        ""
      ]
    },
    {
      "cell_type": "code",
      "metadata": {
        "id": "-4RCGO3PviAa"
      },
      "source": [
        "# 1 임포트\n",
        "from keras import models\n",
        "from keras import layers\n",
        "from keras import optimizers\n",
        "from keras.preprocessing.image import ImageDataGenerator\n",
        "import matplotlib.pyplot as plt\n",
        "\n",
        "# 2 각자 파일에..!\n",
        "\n",
        "# 3 모델 생성\n",
        "model = models.Sequential()\n",
        "model.add(layers.Conv2D(32, (3,3), activation='relu', input_shape= (150, 150, 3)))\n",
        "model.add(layers.MaxPool2D((2,2)))\n",
        "model.add(layers.Conv2D(64, (3,3), activation='relu'))\n",
        "model.add(layers.MaxPool2D((2,2)))\n",
        "model.add(layers.Conv2D(128, (3,3), activation='relu'))\n",
        "model.add(layers.MaxPool2D((2,2)))\n",
        "model.add(layers.Conv2D(128, (3,3), activation='relu'))\n",
        "model.add(layers.MaxPool2D((2,2)))\n",
        "model.add(layers.Flatten())\n",
        "model.add(layers.Dense(512, activation='relu'))\n",
        "model.add(layers.Dense(8, activation='sigmoid'))\n",
        "\n",
        "print(model.summary())\n",
        "\n",
        "# 4 train, test  분리\n",
        "model.compile(loss= 'binary_crossentropy',\n",
        "              optimizer= optimizers.RMSprop(lr= 1e-4),\n",
        "              metrics=['acc'])\n",
        "\n",
        "train_datagen = ImageDataGenerator(rescale= 1./255)\n",
        "test_datagen  = ImageDataGenerator(rescale= 1./255)\n",
        "\n",
        "# 5 이미지ㅣ 분류\n",
        "train_generator = train_datagen.flow_from_directory(\n",
        "    train_dir,\n",
        "    target_size=(150,150),\n",
        "    batch_size=20,\n",
        "    class_mode= 'catagorical'\n",
        ")\n",
        "\n",
        "validation_generator = test_datagen.flow_from_directory(\n",
        "    val_dir,\n",
        "    target_size=(150,150),\n",
        "    batch_size=20,\n",
        "    class_mode='categorical'\n",
        ")\n",
        "\n",
        "history= model.fit_generator(\n",
        "    train_generator,\n",
        "    steps_per_epoch=5,\n",
        "    epochs=10,\n",
        "    validation_data= validation_generator,\n",
        "    validation_steps=50\n",
        ")\n",
        "이소현 — 오늘 오후 1:57\n",
        "#----------6\n",
        "acc = history.history['acc']\n",
        "val_acc = history.history['val_acc']\n",
        "loss = history.history['loss']\n",
        "val_loss = history.history['val_loss']\n",
        "\n",
        "epochs = range(1, len(acc)+1)\n",
        "\n",
        "#----------------7,8\n",
        "plt.plot(epochs, acc, 'bo', label='Training Acc')\n",
        "plt.plot(epochs, val_acc, 'b', label='Validation Acc')\n",
        "plt.title('Training and Validation Acc')\n",
        "ppt.legend()\n",
        "plt.figure()\n",
        "\n",
        "plt.plot(epochs, loss, 'bo', label='Training loss')\n",
        "plt.plot(epochs, val_loss, 'b', label='Validation loss')\n",
        "plt.title('Training and Validation loss')\n",
        "plt.legend()\n",
        "\n",
        "plt.show()\n",
        "\n",
        "#-----------1\n",
        "from keras.applications.vgg16 import VGG16\n",
        "from keras.utlis.vis_utils import plot_model\n",
        "from keras import optimizers\n",
        "from keras.preprocessing.image import ImageDataGenerator\n",
        "import matplotlib.pyplot as plt\n",
        "from keras import models\n",
        "from keras import layers\n",
        "\n",
        "#-----------2\n",
        "train_dir = 'C:/Users/---/Desktop/Pythonproject/pill/images/train_dir'\n",
        "val_dir = 'C:/Users/---/Desktop/Pythonproject/pill/images/val_dir'"
      ],
      "execution_count": null,
      "outputs": []
    },
    {
      "cell_type": "code",
      "metadata": {
        "id": "ZC6HfFB8o-DX"
      },
      "source": [
        "model = models.Sequential()\n",
        "model.add(layers.ZeroPadding2D((1,1),input_shape=(224,224,3)))\n",
        "model.add(layers.Convolution2D((64,3,3, activation=\"relu\"))\n",
        "model.add(layers.ZeroPadding2D((1,1)))\n",
        "model.add(layers.Convolution2D((64,3,3, activation=\"relu\"))\n",
        "model.add(layers.ZeroPadding2D((2,2),strides=(2,2)))"
      ],
      "execution_count": null,
      "outputs": []
    },
    {
      "cell_type": "code",
      "metadata": {
        "id": "8h-0KzzYqSKb"
      },
      "source": [
        "model.add(layers.ZeroPadding2D((1,1)))\n",
        "model.add(layers.Convolution2D((128,3,3, activation=\"relu\"))\n",
        "model.add(layers.ZeroPadding2D((1,1)))\n",
        "model.add(layers.Convolution2D((128,3,3, activation=\"relu\"))\n",
        "model.add(layers.ZeroPadding2D((2,2),strides=(2,2),dim_ordering=\"th\"))"
      ],
      "execution_count": null,
      "outputs": []
    },
    {
      "cell_type": "code",
      "metadata": {
        "id": "SWKbHIm0qnvh"
      },
      "source": [
        "model.add(layers.ZeroPadding2D((1,1)))\n",
        "model.add(layers.Convolution2D((256,3,3, activation=\"relu\"))\n",
        "model.add(layers.ZeroPadding2D((1,1)))\n",
        "model.add(layers.Convolution2D((256,3,3, activation=\"relu\"))\n",
        "model.add(layers.ZeroPadding2D((1,1)))\n",
        "model.add(layers.Convolution2D((256,3,3, activation=\"relu\"))\n",
        "model.add(layers.ZeroPadding2D((2,2),strides=(2,2),dim_ordering=\"th\"))"
      ],
      "execution_count": null,
      "outputs": []
    },
    {
      "cell_type": "code",
      "metadata": {
        "id": "gh5NCmhEqokh"
      },
      "source": [
        "model.add(layers.ZeroPadding2D((1,1)))\n",
        "model.add(layers.Convolution2D((512,3,3, activation=\"relu\"))\n",
        "model.add(layers.ZeroPadding2D((1,1)))\n",
        "model.add(layers.Convolution2D((512,3,3, activation=\"relu\"))\n",
        "model.add(layers.ZeroPadding2D((1,1)))\n",
        "model.add(layers.Convolution2D((512,3,3, activation=\"relu\"))\n",
        "model.add(layers.ZeroPadding2D((2,2),strides=(2,2),dim_ordering=\"th\"))"
      ],
      "execution_count": null,
      "outputs": []
    },
    {
      "cell_type": "code",
      "metadata": {
        "id": "kBULgu_MqpMp"
      },
      "source": [
        "model.add(layers.ZeroPadding2D((1,1)))\n",
        "model.add(layers.Convolution2D((512,3,3, activation=\"relu\"))\n",
        "model.add(layers.ZeroPadding2D((1,1)))\n",
        "model.add(layers.Convolution2D((512,3,3, activation=\"relu\"))\n",
        "model.add(layers.ZeroPadding2D((1,1)))\n",
        "model.add(layers.Convolution2D((512,3,3, activation=\"relu\"))\n",
        "model.add(layers.ZeroPadding2D((2,2),strides=(2,2),dim_ordering=\"th\"))"
      ],
      "execution_count": null,
      "outputs": []
    },
    {
      "cell_type": "code",
      "metadata": {
        "id": "OXc7m10sqpJS"
      },
      "source": [
        "model.add(layers.Flatten())\n",
        "model.add(layers.Dense((4096,3,3, activation=\"relu\"))\n",
        "model.add(layers.Dropout((0,5)))\n",
        "model.add(layers.Dense((4096,3,3, activation=\"relu\"))\n",
        "model.add(layers.Dropout((0,5)))\n",
        "model.add(layers.Dense((8, activation=\"softmax\"))"
      ],
      "execution_count": null,
      "outputs": []
    },
    {
      "cell_type": "code",
      "metadata": {
        "id": "pu4H9T9sqpBs"
      },
      "source": [
        "model.compile(loss=\"binary_crossentropy\",\n",
        "              optimizer=optimizers.RMSprop(lr=1e-4),\n",
        "              metrics=[\"acc\"])"
      ],
      "execution_count": null,
      "outputs": []
    },
    {
      "cell_type": "code",
      "metadata": {
        "id": "4Y3qZfZtqo3t"
      },
      "source": [
        "train_datagan = ImageDataGenerator(recale=1./255)\n",
        "test_datagen = ImageDataGenerator(rescale=1./255)"
      ],
      "execution_count": null,
      "outputs": []
    },
    {
      "cell_type": "code",
      "metadata": {
        "id": "s2BnSsHNtEVz"
      },
      "source": [
        "train_generator = train_datagen.flow_from_directory(\n",
        "    train_dir,\n",
        "    target_size=(224,224),\n",
        "    batch_size=20,\n",
        "    class_mods=\"categorical\"\n",
        ")\n"
      ],
      "execution_count": null,
      "outputs": []
    },
    {
      "cell_type": "code",
      "metadata": {
        "id": "Y3a6HAuNudn8"
      },
      "source": [
        "history=model.fit_generator(\n",
        "    train_generator,\n",
        "    step_per_epoch=5,\n",
        "    epochs=10,\n",
        "    validation_data=validation_generator,\n",
        "    validation_step=50\n",
        ")"
      ],
      "execution_count": null,
      "outputs": []
    },
    {
      "cell_type": "code",
      "metadata": {
        "id": "SeJ8G0xfvgL5"
      },
      "source": [
        ""
      ],
      "execution_count": null,
      "outputs": []
    }
  ]
}